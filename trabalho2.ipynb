{
 "cells": [
  {
   "cell_type": "code",
   "execution_count": 4,
   "metadata": {},
   "outputs": [],
   "source": [
    "import sklearn\n",
    "import pandas\n",
    "import seaborn\n",
    "import numpy as np"
   ]
  },
  {
   "cell_type": "code",
   "execution_count": 5,
   "metadata": {},
   "outputs": [],
   "source": [
    "dataset = pandas.read_csv('datasets\\cs.csv')\n",
    "\n",
    "# dataset[\"round_winner\"].replace(to_replace =\"CT\", value = False, inplace=True)\n",
    "# dataset[\"round_winner\"].replace(to_replace =\"T\", value = True, inplace=True)\n",
    "\n",
    "dataset = pandas.get_dummies(dataset, columns=[\"map\"])"
   ]
  },
  {
   "cell_type": "code",
   "execution_count": 6,
   "metadata": {},
   "outputs": [],
   "source": [
    "X = dataset.loc[:, dataset.columns != 'round_winner'] \n",
    "y = np.array(dataset.loc[:, dataset.columns == 'round_winner']).ravel()"
   ]
  },
  {
   "cell_type": "code",
   "execution_count": 7,
   "metadata": {},
   "outputs": [],
   "source": [
    "# importa o método do sklearn que separa em conjunto de treino e teste\n",
    "from sklearn.model_selection import train_test_split\n",
    "\n",
    "X_train, X_test, y_train, y_test = train_test_split(X, y, test_size=0.25, stratify=y, random_state=42)"
   ]
  },
  {
   "cell_type": "code",
   "execution_count": 8,
   "metadata": {},
   "outputs": [],
   "source": [
    "# importa metodos de classicacao\n",
    "from sklearn.tree import DecisionTreeClassifier\n",
    "from sklearn.neighbors import KNeighborsClassifier\n",
    "from sklearn.naive_bayes import GaussianNB\n",
    "from sklearn.neural_network import MLPClassifier"
   ]
  },
  {
   "cell_type": "code",
   "execution_count": 19,
   "metadata": {},
   "outputs": [],
   "source": [
    "# instancia os classificador \n",
    "DTC = DecisionTreeClassifier(criterion='gini', random_state=42)\n",
    "KNN = KNeighborsClassifier(n_neighbors=3)\n",
    "GNB = GaussianNB()\n",
    "MLP = MLPClassifier(random_state=1, max_iter=300)"
   ]
  },
  {
   "cell_type": "code",
   "execution_count": null,
   "metadata": {},
   "outputs": [],
   "source": [
    "# treina o classificador com o conjunto de treino\n",
    "DTC.fit(X_train,y_train)\n",
    "KNN.fit(X_train,y_train)\n",
    "GNB.fit(X_train,y_train)\n",
    "MLP.fit(X_train,y_train)"
   ]
  },
  {
   "cell_type": "code",
   "execution_count": 23,
   "metadata": {},
   "outputs": [],
   "source": [
    "# prediz as classes do conjunto de teste\n",
    "predict_DTC = DTC.predict(X_test)\n",
    "predict_KNN = KNN.predict(X_test)\n",
    "predict_GNB = GNB.predict(X_test)\n",
    "predict_MLP = MLP.predict(X_test)"
   ]
  },
  {
   "cell_type": "code",
   "execution_count": 24,
   "metadata": {},
   "outputs": [],
   "source": [
    "from sklearn.metrics import accuracy_score\n",
    "\n",
    "acc_DTC = accuracy_score(y_test, predict_DTC)\n",
    "acc_KNN = accuracy_score(y_test, predict_KNN)\n",
    "acc_GNB = accuracy_score(y_test, predict_GNB)\n",
    "acc_MLP = accuracy_score(y_test, predict_MLP)"
   ]
  },
  {
   "cell_type": "code",
   "execution_count": 25,
   "metadata": {},
   "outputs": [
    {
     "name": "stdout",
     "output_type": "stream",
     "text": [
      "A acurácia do Classificador DTC é: 82.27%\n",
      "A acurácia do Classificador KNN é: 77.80%\n",
      "A acurácia do Classificador GNB é: 73.30%\n",
      "A acurácia do Classificador MLP é: 59.15%\n"
     ]
    }
   ],
   "source": [
    "print(f'A acurácia do Classificador DTC é: {acc_DTC :.2%}')\n",
    "print(f'A acurácia do Classificador KNN é: {acc_KNN :.2%}')\n",
    "print(f'A acurácia do Classificador GNB é: {acc_GNB :.2%}')\n",
    "print(f'A acurácia do Classificador MLP é: {acc_MLP :.2%}')"
   ]
  }
 ],
 "metadata": {
  "interpreter": {
   "hash": "52cf93b3245c947d64d0217858e618f9641697b5c808500ce60698e2564fce2d"
  },
  "kernelspec": {
   "display_name": "Python 3.10.3 64-bit",
   "language": "python",
   "name": "python3"
  },
  "language_info": {
   "codemirror_mode": {
    "name": "ipython",
    "version": 3
   },
   "file_extension": ".py",
   "mimetype": "text/x-python",
   "name": "python",
   "nbconvert_exporter": "python",
   "pygments_lexer": "ipython3",
   "version": "3.10.3"
  },
  "orig_nbformat": 4,
  "vscode": {
   "interpreter": {
    "hash": "369f2c481f4da34e4445cda3fffd2e751bd1c4d706f27375911949ba6bb62e1c"
   }
  }
 },
 "nbformat": 4,
 "nbformat_minor": 2
}
