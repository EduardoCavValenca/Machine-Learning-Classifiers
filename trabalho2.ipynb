{
 "cells": [
  {
   "cell_type": "markdown",
   "metadata": {},
   "source": [
    "# IA"
   ]
  },
  {
   "cell_type": "code",
   "execution_count": 44,
   "metadata": {},
   "outputs": [],
   "source": [
    "import pandas\n",
    "import seaborn\n",
    "import numpy as np"
   ]
  },
  {
   "cell_type": "code",
   "execution_count": 87,
   "metadata": {},
   "outputs": [],
   "source": [
    "dataset = pandas.read_csv('datasets\\cs.csv')\n",
    "dataset = dataset.dropna(axis=0)\n",
    "dataset = pandas.get_dummies(dataset, columns=[\"map\"])"
   ]
  },
  {
   "cell_type": "code",
   "execution_count": 46,
   "metadata": {},
   "outputs": [],
   "source": [
    "X = dataset.loc[:, dataset.columns != 'round_winner'] \n",
    "y = np.array(dataset.loc[:, dataset.columns == 'round_winner']).ravel()"
   ]
  },
  {
   "cell_type": "code",
   "execution_count": 47,
   "metadata": {},
   "outputs": [
    {
     "data": {
      "image/png": "[encoded data removed]",
      "text/plain": [
       "<Figure size 432x288 with 1 Axes>"
      ]
     },
     "metadata": {
      "needs_background": "light"
     },
     "output_type": "display_data"
    }
   ],
   "source": [
    "# para plotar a proporção das classes, primeiro contamos os valores da coluna 'target' e transformamos em um frame\n",
    "class_distribuition = pandas.DataFrame(dataset['round_winner'].value_counts())\n",
    "# usamos o frame criado acima para plot a frequencia de cada classe no dataset\n",
    "seaborn.barplot(x = class_distribuition.index, y='round_winner', data = class_distribuition)\n",
    "\n",
    "class_ratio = class_distribuition['round_winner'][0]/class_distribuition['round_winner'][1]\n",
    "\n",
    "if (0.9 < class_ratio < 1.1):\n",
    "    scoring_choosed = \"accuracy\"\n",
    "else:\n",
    "    scoring_choosed = \"balanced_accuracy\""
   ]
  },
  {
   "cell_type": "code",
   "execution_count": 48,
   "metadata": {},
   "outputs": [],
   "source": [
    "# # importa o método do sklearn que separa em conjunto de treino e teste\n",
    "from sklearn.model_selection import train_test_split\n",
    "\n",
    "X_train, X_test, y_train, y_test = train_test_split(X, y, test_size=0.25, stratify=y, random_state=42)"
   ]
  },
  {
   "cell_type": "code",
   "execution_count": 49,
   "metadata": {},
   "outputs": [],
   "source": [
    "# importa metodos de classicacao\n",
    "from sklearn.tree import DecisionTreeClassifier\n",
    "from sklearn.neighbors import KNeighborsClassifier\n",
    "from sklearn.naive_bayes import GaussianNB\n",
    "from sklearn.neural_network import MLPClassifier\n",
    "from sklearn.model_selection import GridSearchCV"
   ]
  },
  {
   "cell_type": "code",
   "execution_count": 50,
   "metadata": {},
   "outputs": [],
   "source": [
    "# instancia os classificador \n",
    "DTC = DecisionTreeClassifier()\n",
    "KNN = KNeighborsClassifier()\n",
    "GNB = GaussianNB()\n",
    "MLP = MLPClassifier()"
   ]
  },
  {
   "cell_type": "code",
   "execution_count": 51,
   "metadata": {},
   "outputs": [],
   "source": [
    "DTC_parameters = {'criterion' : ['gini','entropy','log_loss'], 'random_state' : [42]}\n",
    "KNN_parameters = {'n_neighbors' : [1, 3, 5, 7, 9, 11, 13], 'weights' : ['uniform', 'distance']}\n",
    "GNB_parameters = {}\n",
    "MLP_parameters = {'hidden_layer_sizes' : [(5), (8), (15), (5, 3), (8, 5), (10, 5)], 'max_iter' : [3000], 'random_state' : [42]}"
   ]
  },
  {
   "cell_type": "code",
   "execution_count": 52,
   "metadata": {},
   "outputs": [],
   "source": [
    "GS_DTC = GridSearchCV(DTC, DTC_parameters, cv = 10, scoring = scoring_choosed)\n",
    "GS_KNN = GridSearchCV(KNN, KNN_parameters, cv = 10, scoring = scoring_choosed)\n",
    "GS_GNB = GridSearchCV(GNB, GNB_parameters, cv = 10, scoring = scoring_choosed)\n",
    "GS_MLP = GridSearchCV(MLP, MLP_parameters, cv = 10, scoring = scoring_choosed)"
   ]
  },
  {
   "cell_type": "code",
   "execution_count": 53,
   "metadata": {},
   "outputs": [
    {
     "data": {
      "text/html": [
       "<style>#sk-container-id-2 {color: black;background-color: white;}#sk-container-id-2 pre{padding: 0;}#sk-container-id-2 div.sk-toggleable {background-color: white;}#sk-container-id-2 label.sk-toggleable__label {cursor: pointer;display: block;width: 100%;margin-bottom: 0;padding: 0.3em;box-sizing: border-box;text-align: center;}#sk-container-id-2 label.sk-toggleable__label-arrow:before {content: \"▸\";float: left;margin-right: 0.25em;color: #696969;}#sk-container-id-2 label.sk-toggleable__label-arrow:hover:before {color: black;}#sk-container-id-2 div.sk-estimator:hover label.sk-toggleable__label-arrow:before {color: black;}#sk-container-id-2 div.sk-toggleable__content {max-height: 0;max-width: 0;overflow: hidden;text-align: left;background-color: #f0f8ff;}#sk-container-id-2 div.sk-toggleable__content pre {margin: 0.2em;color: black;border-radius: 0.25em;background-color: #f0f8ff;}#sk-container-id-2 input.sk-toggleable__control:checked~div.sk-toggleable__content {max-height: 200px;max-width: 100%;overflow: auto;}#sk-container-id-2 input.sk-toggleable__control:checked~label.sk-toggleable__label-arrow:before {content: \"▾\";}#sk-container-id-2 div.sk-estimator input.sk-toggleable__control:checked~label.sk-toggleable__label {background-color: #d4ebff;}#sk-container-id-2 div.sk-label input.sk-toggleable__control:checked~label.sk-toggleable__label {background-color: #d4ebff;}#sk-container-id-2 input.sk-hidden--visually {border: 0;clip: rect(1px 1px 1px 1px);clip: rect(1px, 1px, 1px, 1px);height: 1px;margin: -1px;overflow: hidden;padding: 0;position: absolute;width: 1px;}#sk-container-id-2 div.sk-estimator {font-family: monospace;background-color: #f0f8ff;border: 1px dotted black;border-radius: 0.25em;box-sizing: border-box;margin-bottom: 0.5em;}#sk-container-id-2 div.sk-estimator:hover {background-color: #d4ebff;}#sk-container-id-2 div.sk-parallel-item::after {content: \"\";width: 100%;border-bottom: 1px solid gray;flex-grow: 1;}#sk-container-id-2 div.sk-label:hover label.sk-toggleable__label {background-color: #d4ebff;}#sk-container-id-2 div.sk-serial::before {content: \"\";position: absolute;border-left: 1px solid gray;box-sizing: border-box;top: 0;bottom: 0;left: 50%;z-index: 0;}#sk-container-id-2 div.sk-serial {display: flex;flex-direction: column;align-items: center;background-color: white;padding-right: 0.2em;padding-left: 0.2em;position: relative;}#sk-container-id-2 div.sk-item {position: relative;z-index: 1;}#sk-container-id-2 div.sk-parallel {display: flex;align-items: stretch;justify-content: center;background-color: white;position: relative;}#sk-container-id-2 div.sk-item::before, #sk-container-id-2 div.sk-parallel-item::before {content: \"\";position: absolute;border-left: 1px solid gray;box-sizing: border-box;top: 0;bottom: 0;left: 50%;z-index: -1;}#sk-container-id-2 div.sk-parallel-item {display: flex;flex-direction: column;z-index: 1;position: relative;background-color: white;}#sk-container-id-2 div.sk-parallel-item:first-child::after {align-self: flex-end;width: 50%;}#sk-container-id-2 div.sk-parallel-item:last-child::after {align-self: flex-start;width: 50%;}#sk-container-id-2 div.sk-parallel-item:only-child::after {width: 0;}#sk-container-id-2 div.sk-dashed-wrapped {border: 1px dashed gray;margin: 0 0.4em 0.5em 0.4em;box-sizing: border-box;padding-bottom: 0.4em;background-color: white;}#sk-container-id-2 div.sk-label label {font-family: monospace;font-weight: bold;display: inline-block;line-height: 1.2em;}#sk-container-id-2 div.sk-label-container {text-align: center;}#sk-container-id-2 div.sk-container {/* jupyter's `normalize.less` sets `[hidden] { display: none; }` but bootstrap.min.css set `[hidden] { display: none !important; }` so we also need the `!important` here to be able to override the default hidden behavior on the sphinx rendered scikit-learn.org. See: https://github.com/scikit-learn/scikit-learn/issues/21755 */display: inline-block !important;position: relative;}#sk-container-id-2 div.sk-text-repr-fallback {display: none;}</style><div id=\"sk-container-id-2\" class=\"sk-top-container\"><div class=\"sk-text-repr-fallback\"><pre>GridSearchCV(cv=10, estimator=MLPClassifier(),\n",
       "             param_grid={&#x27;hidden_layer_sizes&#x27;: [5, 8, 15, (5, 3), (8, 5),\n",
       "                                                (10, 5)],\n",
       "                         &#x27;max_iter&#x27;: [3000], &#x27;random_state&#x27;: [42]},\n",
       "             scoring=&#x27;accuracy&#x27;)</pre><b>In a Jupyter environment, please rerun this cell to show the HTML representation or trust the notebook. <br />On GitHub, the HTML representation is unable to render, please try loading this page with nbviewer.org.</b></div><div class=\"sk-container\" hidden><div class=\"sk-item sk-dashed-wrapped\"><div class=\"sk-label-container\"><div class=\"sk-label sk-toggleable\"><input class=\"sk-toggleable__control sk-hidden--visually\" id=\"sk-estimator-id-4\" type=\"checkbox\" ><label for=\"sk-estimator-id-4\" class=\"sk-toggleable__label sk-toggleable__label-arrow\">GridSearchCV</label><div class=\"sk-toggleable__content\"><pre>GridSearchCV(cv=10, estimator=MLPClassifier(),\n",
       "             param_grid={&#x27;hidden_layer_sizes&#x27;: [5, 8, 15, (5, 3), (8, 5),\n",
       "                                                (10, 5)],\n",
       "                         &#x27;max_iter&#x27;: [3000], &#x27;random_state&#x27;: [42]},\n",
       "             scoring=&#x27;accuracy&#x27;)</pre></div></div></div><div class=\"sk-parallel\"><div class=\"sk-parallel-item\"><div class=\"sk-item\"><div class=\"sk-label-container\"><div class=\"sk-label sk-toggleable\"><input class=\"sk-toggleable__control sk-hidden--visually\" id=\"sk-estimator-id-5\" type=\"checkbox\" ><label for=\"sk-estimator-id-5\" class=\"sk-toggleable__label sk-toggleable__label-arrow\">estimator: MLPClassifier</label><div class=\"sk-toggleable__content\"><pre>MLPClassifier()</pre></div></div></div><div class=\"sk-serial\"><div class=\"sk-item\"><div class=\"sk-estimator sk-toggleable\"><input class=\"sk-toggleable__control sk-hidden--visually\" id=\"sk-estimator-id-6\" type=\"checkbox\" ><label for=\"sk-estimator-id-6\" class=\"sk-toggleable__label sk-toggleable__label-arrow\">MLPClassifier</label><div class=\"sk-toggleable__content\"><pre>MLPClassifier()</pre></div></div></div></div></div></div></div></div></div></div>"
      ],
      "text/plain": [
       "GridSearchCV(cv=10, estimator=MLPClassifier(),\n",
       "             param_grid={'hidden_layer_sizes': [5, 8, 15, (5, 3), (8, 5),\n",
       "                                                (10, 5)],\n",
       "                         'max_iter': [3000], 'random_state': [42]},\n",
       "             scoring='accuracy')"
      ]
     },
     "execution_count": 53,
     "metadata": {},
     "output_type": "execute_result"
    }
   ],
   "source": [
    "# treina o classificador com o conjunto de treino\n",
    "GS_DTC.fit(X_train, y_train)\n",
    "GS_KNN.fit(X_train, y_train)\n",
    "GS_GNB.fit(X_train, y_train)\n",
    "GS_MLP.fit(X_train, y_train)"
   ]
  },
  {
   "cell_type": "code",
   "execution_count": 79,
   "metadata": {},
   "outputs": [],
   "source": [
    "results_DTC = pandas.DataFrame(GS_DTC.cv_results_)\n",
    "results_KNN = pandas.DataFrame(GS_KNN.cv_results_)\n",
    "results_GNB = pandas.DataFrame(GS_GNB.cv_results_)\n",
    "results_MLP = pandas.DataFrame(GS_MLP.cv_results_)"
   ]
  },
  {
   "cell_type": "code",
   "execution_count": 55,
   "metadata": {},
   "outputs": [],
   "source": [
    "view = ['params', 'mean_test_score','std_test_score', 'rank_test_score']\n",
    "results_DTC = results_DTC[view].sort_values(by='rank_test_score')\n",
    "results_KNN = results_KNN[view].sort_values(by='rank_test_score')\n",
    "results_GNB = results_GNB[view].sort_values(by='rank_test_score')\n",
    "results_MLP = results_MLP[view].sort_values(by='rank_test_score')"
   ]
  },
  {
   "cell_type": "code",
   "execution_count": 56,
   "metadata": {},
   "outputs": [
    {
     "name": "stdout",
     "output_type": "stream",
     "text": [
      "A acurácia do Classificador DTC é: 81.14%\n",
      "A acurácia do Classificador KNN é: 80.07%\n",
      "A acurácia do Classificador GNB é: 73.08%\n",
      "A acurácia do Classificador MLP é: 74.38%\n"
     ]
    }
   ],
   "source": [
    "print(f'A acurácia do Classificador DTC é: {results_DTC[\"mean_test_score\"][0] :.2%}')\n",
    "print(f'A acurácia do Classificador KNN é: {results_KNN[\"mean_test_score\"][0] :.2%}')\n",
    "print(f'A acurácia do Classificador GNB é: {results_GNB[\"mean_test_score\"][0] :.2%}')\n",
    "print(f'A acurácia do Classificador MLP é: {results_MLP[\"mean_test_score\"][0] :.2%}')"
   ]
  },
  {
   "cell_type": "code",
   "execution_count": 72,
   "metadata": {},
   "outputs": [
    {
     "name": "stdout",
     "output_type": "stream",
     "text": [
      "DTC 0.8114195403076213 0.003375993372504895\n",
      "KNN 0.800701424913961 0.004137281574836442\n",
      "MLP 0.7437560389826577 0.005245101829513755\n",
      "GNB 0.7307504629125368 0.00551220441167607\n"
     ]
    }
   ],
   "source": [
    "algs = [] \n",
    "\n",
    "algs.append({\"name\": \"DTC\", \"results\": results_DTC})\n",
    "algs.append({\"name\": \"KNN\", \"results\": results_KNN})\n",
    "algs.append({\"name\": \"GNB\", \"results\": results_GNB})\n",
    "algs.append({\"name\": \"MLP\", \"results\": results_MLP})\n",
    "\n",
    "algs.sort(key = lambda acc : acc[\"results\"][\"mean_test_score\"][0], reverse = True)\n",
    "\n",
    "for alg in algs:\n",
    "    print(alg[\"name\"], alg[\"results\"][\"mean_test_score\"][0], alg[\"results\"][\"std_test_score\"][0])\n"
   ]
  },
  {
   "cell_type": "code",
   "execution_count": 85,
   "metadata": {},
   "outputs": [],
   "source": [
    "from math import sqrt\n",
    "\n",
    "media_err_A0 = 1 - algs[0][\"results\"][\"mean_test_score\"][0]\n",
    "dp_A0 = algs[0][\"results\"][\"std_test_score\"][0]\n",
    "\n",
    "media_err_A1 = 1 - algs[1][\"results\"][\"mean_test_score\"][0]\n",
    "dp_A1 = algs[1][\"results\"][\"std_test_score\"][0]\n",
    "\n",
    "dif_media_err = media_err_A0 - media_err_A1\n",
    "desvio_padrao = sqrt( (dp_A0**2 + dp_A1**2) / 2.0 )\n",
    "diferenca_absoluta = dif_media_err / desvio_padrao"
   ]
  },
  {
   "cell_type": "code",
   "execution_count": 86,
   "metadata": {},
   "outputs": [
    {
     "name": "stdout",
     "output_type": "stream",
     "text": [
      "Os dois melhores algoritmos foram DTC e KNN\n",
      "\tdif_media_err = -0.010718115393660299\n",
      "\tdesvio_padrao = 0.003775872752138112\n",
      "\tdiferenca_absoluta = -2.8385796072156024\n",
      "DTC tem melhor performance que KNN com nível de confiança de 95%\n"
     ]
    }
   ],
   "source": [
    "print(f'Os dois melhores algoritmos foram {algs[0][\"name\"]} e {algs[1][\"name\"]}')\n",
    "print(f'\\tdif_media_err = {dif_media_err}')\n",
    "print(f'\\tdesvio_padrao = {desvio_padrao}')\n",
    "print(f'\\tdiferenca_absoluta = {diferenca_absoluta}')\n",
    "\n",
    "if diferenca_absoluta > 0:\n",
    "    if diferenca_absoluta >= 0.02:\n",
    "        print(f'{algs[1][\"name\"]} tem melhor performance que {algs[0][\"name\"]} com nível de confiança de 95%')\n",
    "    else:\n",
    "        print(f'{algs[1][\"name\"]} tem melhor performance que {algs[0][\"name\"]}')\n",
    "else:\n",
    "    if diferenca_absoluta <= 0.02:\n",
    "        print(f'{algs[0][\"name\"]} tem melhor performance que {algs[1][\"name\"]} com nível de confiança de 95%')\n",
    "    else:\n",
    "        print(f'{algs[0][\"name\"]} tem melhor performance que {algs[1][\"name\"]}')"
   ]
  }
 ],
 "metadata": {
  "kernelspec": {
   "display_name": "Python 3.10.4 64-bit",
   "language": "python",
   "name": "python3"
  },
  "language_info": {
   "codemirror_mode": {
    "name": "ipython",
    "version": 3
   },
   "file_extension": ".py",
   "mimetype": "text/x-python",
   "name": "python",
   "nbconvert_exporter": "python",
   "pygments_lexer": "ipython3",
   "version": "3.10.4"
  },
  "orig_nbformat": 4,
  "vscode": {
   "interpreter": {
    "hash": "369f2c481f4da34e4445cda3fffd2e751bd1c4d706f27375911949ba6bb62e1c"
   }
  }
 },
 "nbformat": 4,
 "nbformat_minor": 2
}
